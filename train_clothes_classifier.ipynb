{
  "nbformat": 4,
  "nbformat_minor": 0,
  "metadata": {
    "accelerator": "GPU",
    "colab": {
      "name": "Untitled3.ipynb",
      "private_outputs": true,
      "provenance": [],
      "collapsed_sections": [],
      "toc_visible": true
    },
    "kernelspec": {
      "display_name": "Python 3",
      "name": "python3"
    }
  },
  "cells": [
    {
      "cell_type": "code",
      "metadata": {
        "id": "opt1usLMR97c"
      },
      "source": [
        "from google.colab import drive\n",
        "drive.mount('/content/gdrive')"
      ],
      "execution_count": null,
      "outputs": []
    },
    {
      "cell_type": "code",
      "metadata": {
        "id": "kyzGDCOSSVec"
      },
      "source": [
        "!ln -s /content/gdrive/MyDrive/ /mydrive"
      ],
      "execution_count": null,
      "outputs": []
    },
    {
      "cell_type": "code",
      "metadata": {
        "id": "wYx8gjoP5EAZ"
      },
      "source": [
        "!git clone https://github.com/wprzem/clothes_classifier.git"
      ],
      "execution_count": null,
      "outputs": []
    },
    {
      "cell_type": "code",
      "metadata": {
        "id": "ujNILVLv6_zR"
      },
      "source": [
        "!git clone https://github.com/AlexeyAB/darknet"
      ],
      "execution_count": null,
      "outputs": []
    },
    {
      "cell_type": "code",
      "metadata": {
        "id": "WeQzD-43XUbL"
      },
      "source": [
        "%cd darknet"
      ],
      "execution_count": null,
      "outputs": []
    },
    {
      "cell_type": "code",
      "metadata": {
        "id": "9tWViCiP53hS"
      },
      "source": [
        "!mkdir train"
      ],
      "execution_count": null,
      "outputs": []
    },
    {
      "cell_type": "code",
      "metadata": {
        "id": "XL-1iESNWkMo"
      },
      "source": [
        "!make GPU=1 OPENCV=1 CUDNN=1"
      ],
      "execution_count": null,
      "outputs": []
    },
    {
      "cell_type": "code",
      "metadata": {
        "id": "Pt1f4TOiKZp1"
      },
      "source": [
        "!wget https://pjreddie.com/media/files/darknet53.conv.74 -O train/darknet53.conv.74"
      ],
      "execution_count": null,
      "outputs": []
    },
    {
      "cell_type": "code",
      "metadata": {
        "id": "N7eFLn6TXhog"
      },
      "source": [
        "!cp cfg/yolov3.cfg train/yolov3_training.cfg"
      ],
      "execution_count": null,
      "outputs": []
    },
    {
      "cell_type": "code",
      "metadata": {
        "id": "Ej2DJzSCeB2E"
      },
      "source": [
        "!sed -i 's/batch=1/batch=64/' train/yolov3_training.cfg\n",
        "!sed -i 's/subdivisions=1/subdivisions=16/' train/yolov3_training.cfg\n",
        "!sed -i 's/classes=80/classes=8/' train/yolov3_training.cfg\n",
        "!sed -i 's/max_batches = 500200/max_batches = 16000/' train/yolov3_training.cfg\n",
        "!sed -i 's/steps=400000,450000/steps=15500,16500/' train/yolov3_training.cfg\n",
        "!sed -i '603s/filters=255/filters=39/' train/yolov3_training.cfg\n",
        "!sed -i '689s/filters=255/filters=39/' train/yolov3_training.cfg\n",
        "!sed -i '776s/filters=255/filters=39/' train/yolov3_training.cfg"
      ],
      "execution_count": null,
      "outputs": []
    },
    {
      "cell_type": "code",
      "metadata": {
        "id": "VL2dhzoqD718"
      },
      "source": [
        "!mkdir train/obj\n",
        "!cp ../clothes_classifier/images/* train/obj/"
      ],
      "execution_count": null,
      "outputs": []
    },
    {
      "cell_type": "code",
      "metadata": {
        "id": "d5_BwUoNpL93"
      },
      "source": [
        "import glob\n",
        "import os\n",
        "\n",
        "images_list = glob.glob('../clothes_classifier/images/*jpg')\n",
        "train_images_ratio = 0.67\n",
        "num_train_images = int(len(images_list) * train_images_ratio)\n",
        "train_images = images_list[:num_train_images]\n",
        "test_images = images_list[num_train_images:]\n",
        "\n",
        "with open(os.path.join('train', 'train.txt'), 'w') as f:\n",
        "  f.write('\\n'.join(train_images))\n",
        "\n",
        "with open(os.path.join('train', 'test.txt'), 'w') as f:\n",
        "  f.write('\\n'.join(test_images))"
      ],
      "execution_count": null,
      "outputs": []
    },
    {
      "cell_type": "code",
      "metadata": {
        "id": "tCixOt6nAZRj"
      },
      "source": [
        "!cp ../clothes_classifier/clothes.names train/obj.names"
      ],
      "execution_count": null,
      "outputs": []
    },
    {
      "cell_type": "code",
      "metadata": {
        "id": "K6Bg2Hh4BYn7"
      },
      "source": [
        "!echo classes=8 > train/obj.data\n",
        "!echo train=train/train.txt >> train/obj.data\n",
        "!echo valid=train/test.txt >> train/obj.data\n",
        "!echo names=train/obj.names >> train/obj.data\n",
        "!echo backup=/mydrive/testtraining >> train/obj.data"
      ],
      "execution_count": null,
      "outputs": []
    },
    {
      "cell_type": "code",
      "metadata": {
        "id": "KcSi_NfKCQdP"
      },
      "source": [
        "!./darknet detector train train/obj.data train/yolov3_training.cfg train/darknet53.conv.74 -dont_show"
      ],
      "execution_count": null,
      "outputs": []
    }
  ]
}